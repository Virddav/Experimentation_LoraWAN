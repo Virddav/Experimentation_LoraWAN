{
 "cells": [
  {
   "cell_type": "markdown",
   "metadata": {},
   "source": [
    "# TP LoRaWAN - Utilisation de Node-RED pour le décodage et la visualisation de données\n",
    "\n",
    "## Objectif\n",
    "\n",
    "Dans ce TP, nous allons utiliser **Node-RED** pour :\n",
    "\n",
    "1. Décoder les données reçues via MQTT ou LoRaWAN.\n",
    "2. Créer une interface de visualisation en temps réel à l'aide du module `node-red-dashboard`.\n",
    "3. Analyser les données pour vérifier leur cohérence avec l'atmosphère de la salle U3-305.\n"
   ]
  },
  {
   "cell_type": "markdown",
   "metadata": {},
   "source": [
    "## Partie 1 : Installation et Configuration de Node-RED"
   ]
  },
  {
   "cell_type": "markdown",
   "metadata": {},
   "source": [
    "### Étape 1 : Lancer le conteneur Docker Node-RED\n",
    "\n",
    "Exécutez la commande suivante dans votre terminal pour lancer un conteneur Node-RED :"
   ]
  },
  {
   "cell_type": "code",
   "execution_count": null,
   "metadata": {},
   "outputs": [],
   "source": [
    "sudo docker run -it -p 1880:1880 -v node_red_data:/data --name mynodered nodered/node-red"
   ]
  },
  {
   "cell_type": "markdown",
   "metadata": {},
   "source": [
    "Vérifiez que votre conteneur est bien lancé :"
   ]
  },
  {
   "cell_type": "code",
   "execution_count": null,
   "metadata": {},
   "outputs": [],
   "source": [
    "sudo docker ps -a"
   ]
  },
  {
   "cell_type": "markdown",
   "metadata": {},
   "source": [
    "Si le conteneur n'est pas lancé (s'il est marqué comme exited) alors lancez le avec la commande suivante :"
   ]
  },
  {
   "cell_type": "code",
   "execution_count": null,
   "metadata": {},
   "outputs": [],
   "source": [
    "sudo docker start mynodered"
   ]
  },
  {
   "cell_type": "markdown",
   "metadata": {},
   "source": [
    "Ouvrez l'interface Node-RED dans votre navigateur à l'adresse suivante : http://localhost:1880."
   ]
  },
  {
   "cell_type": "markdown",
   "metadata": {},
   "source": [
    "## Partie 2 : Préparation de Node-RED pour le traitement des données\n",
    "\n",
    "Dans cette partie, vous allez configurer Node-RED pour recevoir des données via MQTT."
   ]
  },
  {
   "cell_type": "markdown",
   "metadata": {},
   "source": [
    "### Étape 1 : Ajouter un nœud MQTT\n",
    "\n",
    "1. Faites glisser un nœud **mqtt in** depuis la palette à gauche vers l'espace de travail.\n",
    "2. Configurez votre broker MQTT :\n",
    "    - serveur : neocampus.univ-tlse3.fr\n",
    "    - port : 1882\n",
    "    - client ID : (il doit etre unique !)\n",
    "    - user : test\n",
    "    - password : test\n",
    "3. Remplissez le topic auquel vous voulez vous abonner dans la partie Sujet : TestTopic/lora/{appId}/{devEUI}/#\n",
    "4. Déployez le flux\n",
    "5. Si le broker est correctement configuré alors un point vert \"connecté\" doit s'afficher sous le noeud MQTT."
   ]
  },
  {
   "cell_type": "markdown",
   "metadata": {},
   "source": [
    "### Etape 2 : Utiliser le débug pour vérifiez que des données arrivent"
   ]
  },
  {
   "cell_type": "markdown",
   "metadata": {},
   "source": [
    "Ajoutez un noeud **débug** et connecter le en sortie du noeud MQTT.\n",
    "\n",
    "Dans le bandeau de droite selectionnez l'onglez **débug** et visualisez les messages qui arrivent."
   ]
  },
  {
   "cell_type": "markdown",
   "metadata": {},
   "source": [
    "## Partie 3 : Décodage et Visualisation"
   ]
  },
  {
   "cell_type": "markdown",
   "metadata": {},
   "source": [
    "### Etape 1 : Implémenter un décodeur sur Node-RED\n",
    "\n",
    "1. Ajoutez un nœud **function** à votre flux pour implémenter le décodeur.\n",
    "\n",
    "Voici un exemple de code fonction qu'il faudra adapter à vos données. "
   ]
  },
  {
   "cell_type": "code",
   "execution_count": null,
   "metadata": {},
   "outputs": [],
   "source": [
    "// Exemple de décodeur de données\n",
    "let payload = msg.payload;\n",
    "let temperature = (payload[0] << 8) | payload[1];  // Exemple de décodage de température\n",
    "msg.payload = { \"temp\": temperature / 100 };  // Conversion en °C\n",
    "return msg;"
   ]
  },
  {
   "cell_type": "markdown",
   "metadata": {},
   "source": [
    "2. Pour vous simplifier la tache et ne pas à avoir à écrire la fonction de décodage il est possible d'installer une palette qui fait le travail à votre place.\n",
    "   - Dans le menu déroulant à droide sélectionner **Gerer la palette** puis **Installer**.\n",
    "    - Rechercher un noeud qui s'appelle **node-red-contrib-cayennelpp-extended**.\n",
    "     \n"
   ]
  },
  {
   "cell_type": "markdown",
   "metadata": {},
   "source": [
    "3. Afficher dans le débug les données décodées et vérifier leur cohérence avec l'atmosphère de la salle U3-305.\n"
   ]
  },
  {
   "cell_type": "markdown",
   "metadata": {},
   "source": [
    "### Étape 2 : Créer une interface utilisateur (Dashboard)\n",
    "\n",
    "1. Dans la palette de gauche, cherchez les nœuds sous la section **dashboard**. Si la palette n'est pas installée procédez de la meme manière que pour l'installation de la palette cayennelpp.\n",
    "\n",
    "3. Faites glisser les nœuds suivants dans votre flux pour créer votre interface utilisateur :\n",
    "   - **ui_chart** : Ce nœud permet de visualiser les données sous forme de graphique (par exemple, les variations de température dans le temps).\n",
    "   - **ui_gauge** : Ce nœud affiche les données sous forme de jauge (par exemple, pour la température ou l'humidité).\n",
    "   - **ui_text** : Ce nœud affiche les valeurs textuellement (par exemple, la température actuelle).\n",
    "\n",
    "4. Configurez chaque nœud :\n",
    "   - Pour le nœud **ui_chart**, spécifiez les données à afficher (par exemple, la sortie du décodeur de température) et choisissez le type de graphique (ligne, barre, etc.).\n",
    "   - Pour le nœud **ui_gauge**, définissez les valeurs minimale et maximale, ainsi que les unités (par exemple, °C pour la température).\n",
    "   - Pour le nœud **ui_text**, définissez l'étiquette et la source des données à afficher.\n",
    "\n",
    "5. Connectez vos nœuds de données (par exemple, les résultats de votre nœud **function** ou **mqtt in** ou **cayennelpp**) aux nœuds de l'interface utilisateur (comme **ui_chart** et **ui_text**).\n",
    "\n",
    "6. Cliquez sur le bouton **Déployer** dans Node-RED pour appliquez les modifications et lancer le tableau de bord."
   ]
  },
  {
   "cell_type": "markdown",
   "metadata": {},
   "source": [
    "### Étape 3 : Accéder au tableau de bord\n",
    "\n",
    "Une fois que vous avez déployé votre flux avec le tableau de bord, vous pouvez accéder à votre interface utilisateur en temps réel via votre navigateur.\n",
    "\n",
    "1. Ouvrez votre navigateur et accéder à l'adresse suivante : [http://localhost:1880/ui](http://localhost:1880/ui).\n",
    "2. Vous verrez alors le tableau de bord que vous avez configuré avec les graphiques, jauges et textes affichant vos données en temps réel."
   ]
  },
  {
   "cell_type": "code",
   "execution_count": null,
   "metadata": {},
   "outputs": [],
   "source": []
  }
 ],
 "metadata": {
  "kernelspec": {
   "display_name": "Python 3 (ipykernel)",
   "language": "python",
   "name": "python3"
  },
  "language_info": {
   "codemirror_mode": {
    "name": "ipython",
    "version": 3
   },
   "file_extension": ".py",
   "mimetype": "text/x-python",
   "name": "python",
   "nbconvert_exporter": "python",
   "pygments_lexer": "ipython3",
   "version": "3.10.12"
  }
 },
 "nbformat": 4,
 "nbformat_minor": 4
}
