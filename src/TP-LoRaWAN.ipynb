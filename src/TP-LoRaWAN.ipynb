{
 "cells": [
  {
   "cell_type": "markdown",
   "id": "cf62d872",
   "metadata": {},
   "source": [
    "# Partie 2 : Transmission et réception des données"
   ]
  },
  {
   "cell_type": "markdown",
   "id": "0005984e",
   "metadata": {},
   "source": [
    "Dans cette partie, vous allez transmettre vos données vers les serveurs applicatifs en utilisant la\n",
    "technologie LoRaWAN. Vous utiliserez un module LoRa Mote de microchip.  \n",
    "Documentation du module :\n",
    "https://ww1.microchip.com/downloads/en/DeviceDoc/RN2483-LoRa-Technology-Module-Command-Reference-User-Guide-DS40001784G.pdf\n",
    "\n",
    "Ressources externes :\n",
    "https://github.com/CampusIoT/tutorial/blob/master/rn2483/README.md"
   ]
  },
  {
   "cell_type": "markdown",
   "id": "7dfa05cf",
   "metadata": {},
   "source": [
    "## 1. Connexion au module"
   ]
  },
  {
   "cell_type": "markdown",
   "id": "cfe201a2",
   "metadata": {},
   "source": [
    "Afin de pouvoir établir une connexion avec la LoRa Mote, nous allons importer serial.  \n",
    "Pour installer serial :  \n",
    "`pip install pyserial`\n",
    "\n",
    "Il faut que vous trouviez le port tty utilisé par le module.  \n",
    "\n",
    "Vous pouvez utiliser la commande :\n",
    "`ls /dev |grep tty`"
   ]
  },
  {
   "cell_type": "code",
   "execution_count": 3,
   "id": "5a09ebdf",
   "metadata": {},
   "outputs": [
    {
     "name": "stdout",
     "output_type": "stream",
     "text": [
      "Looking in indexes: https://pypi.org/simple, https://www.piwheels.org/simple\n",
      "Requirement already satisfied: pyserial in /usr/lib/python3/dist-packages (3.5)\n",
      "\n",
      "\u001b[1m[\u001b[0m\u001b[34;49mnotice\u001b[0m\u001b[1;39;49m]\u001b[0m\u001b[39;49m A new release of pip is available: \u001b[0m\u001b[31;49m24.2\u001b[0m\u001b[39;49m -> \u001b[0m\u001b[32;49m24.3.1\u001b[0m\n",
      "\u001b[1m[\u001b[0m\u001b[34;49mnotice\u001b[0m\u001b[1;39;49m]\u001b[0m\u001b[39;49m To update, run: \u001b[0m\u001b[32;49mpip install --upgrade pip\u001b[0m\n"
     ]
    }
   ],
   "source": [
    "#Import libraries\n",
    "!pip install pyserial\n",
    "import time\n",
    "import logging\n",
    "import serial"
   ]
  },
  {
   "cell_type": "code",
   "execution_count": 4,
   "id": "1b50e180",
   "metadata": {},
   "outputs": [
    {
     "name": "stderr",
     "output_type": "stream",
     "text": [
      "DEBUG:root:Test\n"
     ]
    }
   ],
   "source": [
    "#Configuration\n",
    "PORT     = '/dev/ttyACM0'\n",
    "BAUDRATE = 57600\n",
    "logger= logging.getLogger()\n",
    "logger.setLevel(logging.DEBUG)\n",
    "logging.debug(\"Test\")"
   ]
  },
  {
   "cell_type": "markdown",
   "id": "3d90f11e",
   "metadata": {},
   "source": [
    "Afin de faciliter la connexion au module, nous vous proposons la fonction ci-dessous.\n"
   ]
  },
  {
   "cell_type": "code",
   "execution_count": 5,
   "id": "13daa7ee",
   "metadata": {},
   "outputs": [],
   "source": [
    "def setup_serial(port:str=PORT,baudrate:int=BAUDRATE,bytesize:int=serial.EIGHTBITS,\n",
    "                        parity:str=serial.PARITY_NONE,stopbits:int=serial.STOPBITS_ONE,\n",
    "                        dtr:int=False):\n",
    "    \"\"\"\n",
    "    Function to setup my serial connection\n",
    "    Params:\n",
    "        port:str        : Port used for my connection, default value PORT\n",
    "        baudrate:int    : Baudrate, default value BAUDRATE\n",
    "        bytesize:int    : bytesize, default value serial.EIGHTBITS\n",
    "        parity:str      : Bit parity, default value serial.PARITY_NONE\n",
    "        stopbits:int    : Stop bits, default value serial.STOPBITS_ONE\n",
    "        dtr:bool        : Data Terminal Ready, default value False\n",
    "    Returns :\n",
    "        sp:Serial.Serial: A serial connection\n",
    "    \"\"\"\n",
    "    try:\n",
    "        sp = serial.Serial()\n",
    "        sp.port = port\n",
    "        sp.baudrate = baudrate\n",
    "        sp.bytesize = bytesize\n",
    "        sp.parity = parity\n",
    "        sp.stopbits = stopbits\n",
    "        sp.dtr=dtr\n",
    "        sp.open()\n",
    "        return sp\n",
    "    except (ValueError,serial.SerialException) as exception:\n",
    "        logging.critical(\"Could not open the serial connection.\")\n",
    "        raise exception"
   ]
  },
  {
   "cell_type": "code",
   "execution_count": 6,
   "id": "855bd68a",
   "metadata": {},
   "outputs": [],
   "source": [
    "#Test de connexion\n",
    "module = setup_serial()"
   ]
  },
  {
   "cell_type": "markdown",
   "id": "6c782dc0",
   "metadata": {},
   "source": [
    "## 2. Paramétrage du module"
   ]
  },
  {
   "cell_type": "markdown",
   "id": "c96e89e8",
   "metadata": {},
   "source": [
    "Dans cette partie, il est attendu que l'élève recherche les différentes commandes à envoyer au module pour définir les fonctions suivantes.\n",
    "\n",
    "La fonction send() est fournie."
   ]
  },
  {
   "cell_type": "code",
   "execution_count": 7,
   "id": "b9cd258c",
   "metadata": {},
   "outputs": [],
   "source": [
    "def send(sp:serial.Serial,data:str):\n",
    "    \"\"\"\n",
    "    Send data through the serial connection\n",
    "        Param:\n",
    "            sp:serial.Serial : serial.Serial object used for the RN2485\n",
    "            data:str : Data to encode and send\n",
    "        Returns :\n",
    "            decoded_response:str: Returns a response if got one\n",
    "    \"\"\"\n",
    "    #Encode data and send it through the serial connection\n",
    "    data_to_send = (data.rstrip()+\"\\x0d\\x0a\").encode()\n",
    "    sp.write(data_to_send)\n",
    "    time.sleep(0.2)\n",
    "\n",
    "    #Wait for a response\n",
    "    rdata=sp.readline()\n",
    "    while not rdata:\n",
    "        rdata = sp.readline()\n",
    "\n",
    "    #Decode response and send it\n",
    "    decoded_response = rdata.strip().decode()\n",
    "    logging.debug(\"Decoded response : %s\",decoded_response)\n",
    "    return decoded_response"
   ]
  },
  {
   "cell_type": "code",
   "execution_count": 8,
   "id": "d3bcb8b2",
   "metadata": {},
   "outputs": [],
   "source": [
    "def reset_module(sp):\n",
    "    \"\"\"cnf\n",
    "    Reset the module\n",
    "    sys reset : This command resets and restarts the RN2483 module; stored LoRaWAN protocol\n",
    "    settings will be loaded automatically upon reboot.\n",
    "        Param:\n",
    "        Returns :\n",
    "            response:str : Response from the module\n",
    "            response from the module : RN2483 X.Y.Z MMM DD YYYY HH:MM:SS, where X.Y.Z is firmware\n",
    "            version, MMM is month, DD is day, YYYY is year, HH:MM:SS is hour,\n",
    "            minutes, seconds (format: [HW] [FW] [Date] [Time]). [Date] and [Time] refer\n",
    "            to the release of the firmware.\n",
    "            \n",
    "    \"\"\"\n",
    "    #Send the command to reset the module\n",
    "    command = \"sys factoryRESET\"\n",
    "    response = send(sp,command)\n",
    "    return response"
   ]
  },
  {
   "cell_type": "code",
   "execution_count": 9,
   "id": "2c182221",
   "metadata": {},
   "outputs": [],
   "source": [
    "def set_appkey(sp,appkey:str):\n",
    "    \"\"\"\n",
    "    Set the APPKEY\n",
    "    mac set appkey <appKey> : \n",
    "        - This command sets the application key for the module. The application key is used tocnf\n",
    "          derive the security credentials for communication during over-the-air activation.\n",
    "        Param:\n",
    "            <appKey>: 16-byte hexadecimal number representing the application key\n",
    "        Returns :\n",
    "            Response from module: \n",
    "                    - ok if key is valid\n",
    "                    - invalid_param if key is not valid\n",
    "    \"\"\"\n",
    "    #Send the command to set the appkey\n",
    "    command = \"mac set appkey \"+appkey\n",
    "    response = send(sp,command)\n",
    "    return response"
   ]
  },
  {
   "cell_type": "code",
   "execution_count": 10,
   "id": "7c2b1c12",
   "metadata": {},
   "outputs": [],
   "source": [
    "def set_joineui(sp,joineui:str):\n",
    "    \"\"\"\n",
    "    Set the JOINEUI\n",
    "    mac set appeui <appEUI>\n",
    "        This command sets the \n",
    "        Param:\n",
    "                ??\n",
    "        Returns :\n",
    "            Response: ok if address is valid\n",
    "            invalid_param if address is not valid\n",
    "    \"\"\"\n",
    "    #Send the command to set the joineui\n",
    "    command = \"mac set appeui \" + joineui\n",
    "    response = send(sp,command)\n",
    "    return response"
   ]
  },
  {
   "cell_type": "code",
   "execution_count": 11,
   "id": "59cf3041-3fe8-4de2-ab5c-e3469b37cc29",
   "metadata": {},
   "outputs": [],
   "source": [
    "def set_datarate(sp,spreading_factor:int):\n",
    "    \"\"\"\n",
    "    Set the datarate\n",
    "    mac set dr <dataRate>\n",
    "    This command sets the data rate to be used for the next transmission. \n",
    "        Param:\n",
    "            <dataRate>: decimal number representing the data rate, from 0 and 7, \n",
    "            but within the limits of the data rate range for the defined channels.\n",
    "        Returns :\n",
    "            Response: ok if data rate is valid or invalid_param if data rate is not valid\n",
    "    \"\"\"\n",
    "    datarate = \"DR0\" #Find the relation between SF and DR\n",
    "    #Send the command to set the datarate\n",
    "    command = \"mac set dr \" + str(spreading_factor)\n",
    "    response = send(sp,command)\n",
    "    return response"
   ]
  },
  {
   "cell_type": "code",
   "execution_count": 12,
   "id": "77ea764b",
   "metadata": {},
   "outputs": [],
   "source": [
    "def set_deveui(sp,deveui:str):\n",
    "    \"\"\"\n",
    "    Set the DEVEUI\n",
    "    mac set deveui <devEUI>\n",
    "        This command sets the globally unique device identifier for the module. The identifier\n",
    "        must be set by the host MCU. The module contains a pre-programmed unique EUI and\n",
    "        can be retrieved using the sys get hweui command (see Section 2.3.6.4) or user\n",
    "        provided EUI can be configured using the mac set deveui command.\n",
    "        Param:\n",
    "            <devEUI>: 8-byte hexadecimal number representing the device EUI\n",
    "        Returns :\n",
    "            Response: ok if address is valid ou invalid_param if address is not validcnf\n",
    "    \"\"\"\n",
    "    #Send the command to set the deveui\n",
    "    command = \"mac set deveui \" + deveui\n",
    "    response = send(sp,command)\n",
    "    return response"
   ]
  },
  {
   "cell_type": "code",
   "execution_count": 13,
   "id": "c31b9ebf-f1e9-4f3e-b9da-42e02f0ed6db",
   "metadata": {},
   "outputs": [],
   "source": [
    "def save_config(sp):\n",
    "    \"\"\"\n",
    "    The mac save command must be issued after configuration parameters have been\n",
    "    appropriately entered from the mac set <cmd> commands. This command will save\n",
    "    LoRaWAN Class A protocol configuration parameters to the user EEPROM. When the\n",
    "    next sys reset command is issued, the LoRaWAN Class A protocol configuration will\n",
    "    be initialized with the last saved parameters.\n",
    "        Param:\n",
    "        Returns :\n",
    "            Response: ok\n",
    "    \"\"\"\n",
    "    #Send the command to save the current config\n",
    "    command = \"mac save\"\n",
    "    response = send(sp,command)\n",
    "    return response"
   ]
  },
  {
   "cell_type": "markdown",
   "id": "3b12ba69",
   "metadata": {},
   "source": [
    "### Le data rate, c'est quoi ?  \n",
    "\n",
    "Le Data Rate (DR) c'est le débit de données. Comme vous l'avez vu en cours et en TP, le facteur d'étalement (Spreading Factor, SF) à un lien direct avec ce dernier.  \n",
    "Pour pouvoir choisir un facteur d'étalement avec ce module, vous allez devoir choisir la configuration associée au niveau de DR souhaité.  \n",
    "\n",
    "\n",
    "Extrait de LoRaWAN™ Specification V1.0.2\n",
    "\n",
    "Data Rate | Spreading Factor | Bandwidth | bits/s\n",
    "---------|-------------------|----------|--------------------\n",
    "DR0      | SF12             | 125 kHz   | 250\n",
    "DR1      | SF11             | 125 kHz   | 440\n",
    "DR2      | SF10             | 125 kHz   | 980\n",
    "DR3      | SF9              | 125 kHz   | 1760\n",
    "DR4      | SF8              | 125 kHz   | 3125\n",
    "DR5      | SF7              | 125 kHz   | 5470\n",
    "DR6      | SF7              | 250 kHz   | 11000\n",
    "DR7      | FSK              | 50 kbps    | 50000\n",
    "\n",
    "*(Note : Ici, vous utiliserez les configuration de data rate comprises entre 0 et 5)*"
   ]
  },
  {
   "cell_type": "markdown",
   "id": "40909106",
   "metadata": {},
   "source": [
    "#### Rappel - Spreading Factor\n",
    "\n",
    "Cette vidéo explique la modulation utilisée par LoRa : \n",
    "https://www.youtube.com/watch?v=dxYY097QNs0\n",
    "\n",
    "LoRa utilise la modulation CSS (Chirp Spread Spectrum), où les *chirps* (ou symboles) vont transporter les données.  \n",
    "Le Spreading Factor - ou facteur d'étalement - contrôle l'étalement du chirp dans le temps.  \n",
    "Plus le facteur d'étalement est elevé, plus le *chirp* est étendu dans le temps; le message reste alors plus longtemps dans l'air (le Time On Air augmente).\n",
    "\n",
    "Quand le SF est faible, on envoie des messages plus rapidement. On augmente donc le débit au détriment de la portée; en envoyant des signaux plus courts ces derniers sont plus vulnérables aux bruits et interférences.  \n",
    "Quand le SF est élevé, on envoie des messages plus lentement. Le débit baisse, mais la portée augmente; en envoyant des signaux plus longs ces derniers sont moins vulnérables aux bruits et interférences. Les erreurs sont également plus facilement corrigées grace a la redondance du *chirp*."
   ]
  },
  {
   "cell_type": "markdown",
   "id": "5ca57382",
   "metadata": {},
   "source": [
    "Dans cette fonction, vous allez ré-utiliser les fonctions définies plus haut pour configurer le module.\n"
   ]
  },
  {
   "cell_type": "code",
   "execution_count": 14,
   "id": "d00d2c07",
   "metadata": {},
   "outputs": [],
   "source": [
    "def config_module(sp,appkey:str,joineui:str,deveui:str,spreading_factor:int):\n",
    "    \"\"\"\n",
    "    Configurate the module\n",
    "        Param:\n",
    "            spreading_factor:int : ???????????\n",
    "            joineui:str          : ???????????\n",
    "            deveui:str           : ???????????\n",
    "            spreading_factor:int : ???????????\n",
    "        Returns :\n",
    "            bool: True if joined, False if not\n",
    "    \"\"\"\n",
    "    logging.info(\"Resetting device\")\n",
    "    #response = send(sp, \"sys reset\")\n",
    "    logging.debug(\"Response : %s\",reset_module(sp))\n",
    "    \n",
    "    logging.info(\"Setting APPKEY : %s\",appkey)\n",
    "    #response = send(sp, f\"mac set appkey {appkey}\")\n",
    "    logging.debug(\"Response : %s\",set_appkey(sp, appkey))\n",
    "    \n",
    "    logging.info(\"Setting JOINEUI : %s\",joineui)\n",
    "    #response = send(sp, f\"mac set joineui {joineui}\")\n",
    "    logging.debug(\"Response : %s\",set_joineui(sp,joineui))\n",
    "    \n",
    "    logging.info(\"Setting DEVEUI : %s\",deveui)\n",
    "    #response = send(sp, f\"mac set deveui {deveui}\")\n",
    "    logging.debug(\"Response : %s\",set_deveui(sp,deveui))\n",
    "    \n",
    "    logging.info(\"Setting the data-rate, spreading_factor = %s\",spreading_factor)\n",
    "    #response = send(sp, f\"mac set dr {spreading_factor}\")\n",
    "    logging.debug(\"Response : %s\",set_datarate(sp,spreading_factor))\n",
    "    \n",
    "    logging.info(\"Saving mac settings\")\n",
    "    #response = send(sp, \"mac save\")\n",
    "    logging.debug(\"Response : %s\",save_config(sp))\n",
    "    \n",
    "    #Here we disable the duty cycle limit on the module to avoid errors\n",
    "    for channel in range(0,3):\n",
    "        #Change duty cycle\n",
    "        logging.info(\"Setting channel %s duty cycle to  1.00\",channel)\n",
    "        response = send(sp,f\"mac set ch dcycle {channel} 1\")\n",
    "        logging.info(\"Set %s to dcycle response : %s\",channel,response)\n",
    "        #Channel status to on\n",
    "        logging.info(\"Setting channel %s to on\",channel)\n",
    "        response = send(sp,f\"mac set ch status {channel} on\")\n",
    "        logging.info(\"Set %s on response : %s\",channel,response)\n",
    "    \n",
    "    \n",
    "    #Now we join the network, this part is given\n",
    "    joining=False\n",
    "    while not joining:\n",
    "        logging.info(\"Preparing to join the network\")\n",
    "        response = send(sp,\"mac join otaa\")\n",
    "        logging.info(\"Mac join otaa response : %s\",response)\n",
    "        if \"ok\" in response:\n",
    "            joining=True\n",
    "        time.sleep(2)\n",
    "        \n",
    "    logging.info(\"Wating to get the accepted response\")\n",
    "    time.sleep(2) #Wait for accepted response\n",
    "    ret = sp.readline()\n",
    "    while not ret:\n",
    "        ret = sp.readline()\n",
    "    response = ret.strip().decode()\n",
    "    logging.info(\"Status of the join request : %s\",response)\n",
    "    if not \"accepted\" in response:\n",
    "        return False\n",
    "    return True"
   ]
  },
  {
   "cell_type": "code",
   "execution_count": 15,
   "id": "78cdff18",
   "metadata": {},
   "outputs": [
    {
     "name": "stderr",
     "output_type": "stream",
     "text": [
      "INFO:root:Resetting device\n",
      "DEBUG:root:Decoded response : RN2483 1.0.1 Dec 15 2015 09:38:09\n",
      "DEBUG:root:Response : RN2483 1.0.1 Dec 15 2015 09:38:09\n",
      "INFO:root:Setting APPKEY : 0123456789ABCDEF0123456789ABCDEF\n",
      "DEBUG:root:Decoded response : ok\n",
      "DEBUG:root:Response : ok\n",
      "INFO:root:Setting JOINEUI : DEAD25DEAD25DEAD\n",
      "DEBUG:root:Decoded response : ok\n",
      "DEBUG:root:Response : ok\n",
      "INFO:root:Setting DEVEUI : DEADDEAD00090007\n",
      "DEBUG:root:Decoded response : ok\n",
      "DEBUG:root:Response : ok\n",
      "INFO:root:Setting the data-rate, spreading_factor = 4\n",
      "DEBUG:root:Decoded response : ok\n",
      "DEBUG:root:Response : ok\n",
      "INFO:root:Saving mac settings\n",
      "DEBUG:root:Decoded response : ok\n",
      "DEBUG:root:Response : ok\n",
      "INFO:root:Setting channel 0 duty cycle to  1.00\n",
      "DEBUG:root:Decoded response : ok\n",
      "INFO:root:Set 0 to dcycle response : ok\n",
      "INFO:root:Setting channel 0 to on\n",
      "DEBUG:root:Decoded response : ok\n",
      "INFO:root:Set 0 on response : ok\n",
      "INFO:root:Setting channel 1 duty cycle to  1.00\n",
      "DEBUG:root:Decoded response : ok\n",
      "INFO:root:Set 1 to dcycle response : ok\n",
      "INFO:root:Setting channel 1 to on\n",
      "DEBUG:root:Decoded response : ok\n",
      "INFO:root:Set 1 on response : ok\n",
      "INFO:root:Setting channel 2 duty cycle to  1.00\n",
      "DEBUG:root:Decoded response : ok\n",
      "INFO:root:Set 2 to dcycle response : ok\n",
      "INFO:root:Setting channel 2 to on\n",
      "DEBUG:root:Decoded response : ok\n",
      "INFO:root:Set 2 on response : ok\n",
      "INFO:root:Preparing to join the network\n",
      "DEBUG:root:Decoded response : ok\n",
      "INFO:root:Mac join otaa response : ok\n",
      "INFO:root:Wating to get the accepted response\n",
      "INFO:root:Status of the join request : accepted\n",
      "INFO:root:Did we join the network ? True\n"
     ]
    }
   ],
   "source": [
    "# Test de la fonction\n",
    "response = config_module(module,\"0123456789ABCDEF0123456789ABCDEF\",\"DEAD25DEAD25DEAD\",\"DEADDEAD00090007\", 4)\n",
    "logging.info(\"Did we join the network ? %s\",response)"
   ]
  },
  {
   "cell_type": "code",
   "execution_count": 16,
   "id": "f3a8bf53-e55d-4a6e-9da2-8e73793b5a77",
   "metadata": {},
   "outputs": [
    {
     "name": "stderr",
     "output_type": "stream",
     "text": [
      "INFO:root:Getting SF : %s\n",
      "DEBUG:root:Decoded response : sf12\n",
      "DEBUG:root:Response : sf12\n"
     ]
    }
   ],
   "source": [
    "# Verification bon SF \n",
    "logging.info(\"Getting SF : %s\")\n",
    "response = send(module, f\"radio get sf \")\n",
    "logging.debug(\"Response : %s\",response)"
   ]
  },
  {
   "cell_type": "markdown",
   "id": "45bc155b",
   "metadata": {},
   "source": [
    "# 3. Envoi de messages et réception"
   ]
  },
  {
   "cell_type": "markdown",
   "id": "f0cfe0a1",
   "metadata": {},
   "source": [
    "Dans cette partie, vous allez écrire une fonction permettant d'envoyer un message au LoRa Network Server."
   ]
  },
  {
   "cell_type": "markdown",
   "id": "6c956ec0",
   "metadata": {},
   "source": [
    "Le LoRa Network Server (ou LNS) est configuré pour publier les messages reçus vers le topic : \n",
    "`TestTopic/lora/{appid}/{deveui}/{event}`  \n",
    "A l'aide de mosquitto_sub, vous allez **subscribe** à ce topic depuis une console grâce à la commande suivante :  \n",
    "`mosquitto_sub -h neocampus.univ-tlse3.fr -t TestTopic/lora/{appid}/{deveui}/# -p 1882 -u test -P test`\n",
    "\n",
    "Le broker MQTT neOCampus utilise le port 1882. En général, les brokers MQTT utilisent le port 1883. On précise le broker grâce à l'argument `-p` dans la commande ci dessus. \n",
    "**Si vous essayez d'accéder au broker depuis un réseau externe à l'université, il faudra utiliser le port 10882**"
   ]
  },
  {
   "cell_type": "code",
   "execution_count": 17,
   "id": "d5004c09-5929-49bf-bcfa-7e41a328b007",
   "metadata": {},
   "outputs": [],
   "source": [
    "def send_message(sp, message: bytes):\n",
    "    \"\"\"\n",
    "    Send a message to the LoRa Network Server\n",
    "    Param:\n",
    "    sp: serial.Serial : serial.Serial object used for the RN2483\n",
    "    message: str : Message to send\n",
    "    Returns :\n",
    "    response: str : Response from the module\n",
    "    \"\"\"\n",
    "    # Message à envoyé\n",
    "    command = f\"mac tx uncnf 1 {message}\"\n",
    "    print(command)\n",
    "    response = send(sp, command)\n",
    "    return response"
   ]
  },
  {
   "cell_type": "code",
   "execution_count": 18,
   "id": "35d97b48-8c2d-456c-8b4f-2db659780da9",
   "metadata": {},
   "outputs": [
    {
     "name": "stdout",
     "output_type": "stream",
     "text": [
      "b'Hello, LoRaWAN BADER_NABI!'\n"
     ]
    }
   ],
   "source": [
    "# Verification envoi de donnée\n",
    "messages = \"Hello, LoRaWAN BADER_NABI!\"\n",
    "message = bytes(messages,'utf-8')\n",
    "print(message)\n",
    "#response = send_message(module, message.hex())\n",
    "#logging.debug(\"Response from server: %s\", response)"
   ]
  },
  {
   "cell_type": "markdown",
   "id": "cd00e493",
   "metadata": {},
   "source": [
    "# 4. Application"
   ]
  },
  {
   "cell_type": "markdown",
   "id": "9cb4a70f",
   "metadata": {},
   "source": [
    "Utilisez ce que vous avez appris dans ce TP pour réaliser une boucle pour envoyer des messages périodiquement via le module LoRa Mote.  \n",
    "Attention ! Le time on air (ToA) est une denrée rare en LoRa. Réfléchissez et implémentez des mécanismes pour ne pas le gaspiller (tout en conservant une certaine périodicité dans l’envoi) \n",
    "Enfin, adaptez votre programme pour envoyer les données du SenseHat\n",
    "\n",
    "Vous n'êtes pas obligés d'utiliser Jupyter Notebook pour votre programme."
   ]
  },
  {
   "cell_type": "code",
   "execution_count": 19,
   "id": "a3b01888",
   "metadata": {},
   "outputs": [
    {
     "name": "stderr",
     "output_type": "stream",
     "text": [
      "DEBUG:PIL.PngImagePlugin:STREAM b'IHDR' 16 13\n",
      "DEBUG:PIL.PngImagePlugin:STREAM b'pHYs' 41 9\n",
      "DEBUG:PIL.PngImagePlugin:STREAM b'tIME' 62 7\n",
      "DEBUG:PIL.PngImagePlugin:b'tIME' 62 7 (unknown)\n",
      "DEBUG:PIL.PngImagePlugin:STREAM b'tEXt' 81 25\n",
      "DEBUG:PIL.PngImagePlugin:STREAM b'IDAT' 118 774\n",
      "DEBUG:root:Failed to initialise colour sensor. (Sensor not present)\n"
     ]
    },
    {
     "name": "stdout",
     "output_type": "stream",
     "text": [
      "mac tx uncnf 1 0167015f026832037327920486fff800030000\n"
     ]
    },
    {
     "name": "stderr",
     "output_type": "stream",
     "text": [
      "DEBUG:root:Decoded response : ok\n",
      "INFO:root:Response from server: ok\n"
     ]
    },
    {
     "ename": "KeyboardInterrupt",
     "evalue": "",
     "output_type": "error",
     "traceback": [
      "\u001b[0;31m---------------------------------------------------------------------------\u001b[0m",
      "\u001b[0;31mKeyboardInterrupt\u001b[0m                         Traceback (most recent call last)",
      "Cell \u001b[0;32mIn[19], line 42\u001b[0m\n\u001b[1;32m     39\u001b[0m         \u001b[38;5;28mprint\u001b[39m(cpt)\n\u001b[1;32m     41\u001b[0m \u001b[38;5;66;03m# Send messages every 30 secondes\u001b[39;00m\n\u001b[0;32m---> 42\u001b[0m \u001b[43msend_periodic_messages\u001b[49m\u001b[43m(\u001b[49m\u001b[43mmodule\u001b[49m\u001b[43m,\u001b[49m\u001b[43m \u001b[49m\u001b[43minterval\u001b[49m\u001b[38;5;241;43m=\u001b[39;49m\u001b[38;5;241;43m30\u001b[39;49m\u001b[43m)\u001b[49m \n",
      "Cell \u001b[0;32mIn[19], line 37\u001b[0m, in \u001b[0;36msend_periodic_messages\u001b[0;34m(sp, interval)\u001b[0m\n\u001b[1;32m     35\u001b[0m logging\u001b[38;5;241m.\u001b[39minfo(\u001b[38;5;124m\"\u001b[39m\u001b[38;5;124mResponse from server: \u001b[39m\u001b[38;5;132;01m%s\u001b[39;00m\u001b[38;5;124m\"\u001b[39m, response)\n\u001b[1;32m     36\u001b[0m \u001b[38;5;66;03m# Wait for the next interval\u001b[39;00m\n\u001b[0;32m---> 37\u001b[0m \u001b[43mtime\u001b[49m\u001b[38;5;241;43m.\u001b[39;49m\u001b[43msleep\u001b[49m\u001b[43m(\u001b[49m\u001b[43minterval\u001b[49m\u001b[43m)\u001b[49m\n\u001b[1;32m     38\u001b[0m cpt\u001b[38;5;241m+\u001b[39m\u001b[38;5;241m=\u001b[39m\u001b[38;5;241m1\u001b[39m\n\u001b[1;32m     39\u001b[0m \u001b[38;5;28mprint\u001b[39m(cpt)\n",
      "\u001b[0;31mKeyboardInterrupt\u001b[0m: "
     ]
    }
   ],
   "source": [
    "\n",
    "from sense_hat import SenseHat\n",
    "try:\n",
    "    from cayennelpp import LppFrame\n",
    "except ImportError:\n",
    "    !pip install pycayennelpp\n",
    "    from cayennelpp import LppFramemodule\n",
    "def send_periodic_messages(sp, interval: int ):\n",
    "    \"\"\"\n",
    "    Send periodic messages using the LoRa module\n",
    "    Param:\n",
    "    sp: serial.Serial : serial.Serial object used for the RN2483\n",
    "    interval: int : Interval in seconds between messages\n",
    "    \"\"\"\n",
    "    cpt = 0\n",
    "    \n",
    "    sense = SenseHat()\n",
    "    while cpt < 30:\n",
    "        lpp = LppFrame()\n",
    "        \n",
    "        # Lire les données du SenseHat\n",
    "        temperature = sense.get_temperature()\n",
    "        humidity = sense.get_humidity()\n",
    "        pressure = sense.get_pressure()\n",
    "        gyro = sense.get_gyroscope_raw()\n",
    "\n",
    "        # Ajoute les données au LPP frame\n",
    "        lpp.add_temperature(1, temperature)\n",
    "        lpp.add_humidity(2, humidity) \n",
    "        lpp.add_pressure(3, pressure) \n",
    "        lpp.add_gyrometer(4, gyro['x'],gyro['y'],gyro['z'])\n",
    "        \n",
    "        message = lpp.to_bytes()\n",
    "        # Envoi des données\n",
    "        response = send_message(sp, message.hex())\n",
    "        logging.info(\"Response from server: %s\", response)\n",
    "        # Wait for the next interval\n",
    "        time.sleep(interval)\n",
    "        cpt+=1\n",
    "        print(cpt)\n",
    "        \n",
    "# Send messages every 30 secondes\n",
    "send_periodic_messages(module, interval=30) \n",
    "\n"
   ]
  },
  {
   "cell_type": "code",
   "execution_count": null,
   "id": "b455f31a-da59-4f97-9a37-1c83d1784052",
   "metadata": {},
   "outputs": [],
   "source": []
  },
  {
   "cell_type": "code",
   "execution_count": null,
   "id": "fb4ec72f-4660-40a5-8aca-40a8f0852821",
   "metadata": {},
   "outputs": [],
   "source": []
  }
 ],
 "metadata": {
  "kernelspec": {
   "display_name": "Python 3 (ipykernel)",
   "language": "python",
   "name": "python3"
  },
  "language_info": {
   "codemirror_mode": {
    "name": "ipython",
    "version": 3
   },
   "file_extension": ".py",
   "mimetype": "text/x-python",
   "name": "python",
   "nbconvert_exporter": "python",
   "pygments_lexer": "ipython3",
   "version": "3.11.2"
  }
 },
 "nbformat": 4,
 "nbformat_minor": 5
}
