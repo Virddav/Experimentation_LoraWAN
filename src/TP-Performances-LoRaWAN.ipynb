{
 "cells": [
  {
   "attachments": {},
   "cell_type": "markdown",
   "id": "33e03e0e",
   "metadata": {},
   "source": [
    "# TP - Performances LoRaWAN\n",
    "\n",
    "Ce TP est à réaliser après le mini projet. Nous vous demanderons un rapport ainsi que les courbes tracées grâce à ce TP.\n",
    "Vous n'êtes pas obligés de faire tourner ce notebook sur la Raspberry Pi utilisée pendant le Mini Projet."
   ]
  },
  {
   "attachments": {},
   "cell_type": "markdown",
   "id": "777303c6",
   "metadata": {},
   "source": [
    "Dans ce TP, vous allez réaliser une étude sur le **Facteur d'Étalement** (*Spreading Factor* ou **SF**) de LoRaWAN.\n",
    "\n",
    "Vous utiliserez le module LoRa Mote de microchip que vous avez déjà utilisé dans les TP précédents.\n",
    "Ainsi, nous vous encourageons à réutiliser les fonctions développées dans le cadre du mini projet et à les importer ci-dessous.\n",
    "\n",
    "Montrez dans votre étude que vous avez compris ce que vous faites, les commentaires sont encouragés.\n",
    "\n",
    "Si vous n'arrivez pas à utiliser la bibliothèque Paho MQTT pour récupérer les trames, vous pouvez les récupérer manuellement et les enregistrer dans un fichier vous-mêmes.\n",
    "\n",
    "## Ressources \n",
    "\n",
    "### RN2483\n",
    "Documentation du module RN2483 :\n",
    "https://ww1.microchip.com/downloads/en/DeviceDoc/RN2483-LoRa-Technology-Module-Command-Reference-User-Guide-DS40001784G.pdf\n",
    "\n",
    "Ressources externes :\n",
    "https://github.com/CampusIoT/tutorial/blob/master/rn2483/README.md\n",
    "\n",
    "### Paho MQTT\n",
    "\n",
    "Vous devrez utiliser la librairie Paho MQTT sous python afin de pouvoir vous **connecter au broker MQTT**, **subscribe au topic** et **enregistrer les trames**.\n",
    "\n",
    "Documentation : https://pypi.org/project/paho-mqtt/  \n",
    "Guide/Tutoriel : https://www.hivemq.com/blog/mqtt-client-library-paho-python/\n",
    "\n",
    "### Seaborn\n",
    "\n",
    "Afin de réaliser les courbes, nous vous proposons d'utiliser seaborn. Vous pouvez utiliser autre chose si vous le souhaitez, mais seaborn est une bibliothèque assez simple d'utilisation et haut niveau.\n",
    "\n",
    "Documentation : https://seaborn.pydata.org/\n",
    "\n",
    "### JSON\n",
    "\n",
    "Les trames récupérées via MQTT sont dans le format JSON. Vous pouvez utiliser la bibliothèque json pour travailler avec ce format.   \n",
    "\n",
    "Documentation : https://docs.python.org/3/library/json.html  \n",
    "Tutoriel simple : https://opensource.com/article/19/7/save-and-load-data-python-json"
   ]
  },
  {
   "attachments": {},
   "cell_type": "markdown",
   "id": "18a83242",
   "metadata": {},
   "source": [
    "#### /!\\ Attention /!\\\n",
    "Si vous décidez d'utiliser la Raspberry Pi, voici les solutions à certains problèmes rencontrés par vos camarades durant le projet :\n",
    "\n",
    "* Impossible de se connecter au jupyter notebook => Quand ça arrive, je recrée un venv : `python3 -m venv venv2`. N'oubliez pas de modifier la ligne `include-system-site-packages = false` en `include-system-site-packages = true` dans le fichier `venv2/pyenv.cfg` avant de le sourcer.\n",
    "* Pour éviter un temps de téléchargement trop long quand vous essayez d'installer des paquets, mettez la Raspberry Pi à l'heure à l'aide de :  \n",
    "`sudo date --set 'YYYY-MM-DD HH:mm:ss' `"
   ]
  },
  {
   "attachments": {},
   "cell_type": "markdown",
   "id": "387462b3",
   "metadata": {},
   "source": [
    "# Import et installation"
   ]
  },
  {
   "cell_type": "code",
   "execution_count": 7,
   "id": "6222611a",
   "metadata": {},
   "outputs": [],
   "source": [
    "#Import serial\n",
    "try:\n",
    "  import serial\n",
    "except:\n",
    "  !pip install pyserial\n",
    "  import serial"
   ]
  },
  {
   "cell_type": "code",
   "execution_count": 8,
   "id": "41652e88",
   "metadata": {},
   "outputs": [],
   "source": [
    "#Import Paho mqtt\n",
    "try:\n",
    "  import paho.mqtt.client as paho\n",
    "except:\n",
    "  %pip install paho-mqtt\n",
    "  import paho.mqtt.client as paho"
   ]
  },
  {
   "cell_type": "code",
   "execution_count": 9,
   "id": "e5fafe57",
   "metadata": {},
   "outputs": [],
   "source": [
    "#Import seaborn\n",
    "try:\n",
    "  import seaborn as sns\n",
    "except:\n",
    "  !pip install seaborn\n",
    "  import seaborn as sns"
   ]
  },
  {
   "cell_type": "code",
   "execution_count": 10,
   "id": "0ac96944",
   "metadata": {},
   "outputs": [],
   "source": [
    "#Import json\n",
    "import json\n",
    "import time\n",
    "import logging"
   ]
  },
  {
   "attachments": {},
   "cell_type": "markdown",
   "id": "fb71b9db",
   "metadata": {},
   "source": [
    "## Exemple seaborn"
   ]
  },
  {
   "cell_type": "code",
   "execution_count": 11,
   "id": "ddbee4e6",
   "metadata": {},
   "outputs": [
    {
     "name": "stdout",
     "output_type": "stream",
     "text": [
      "     total_bill   tip     sex smoker   day    time  size\n",
      "0         16.99  1.01  Female     No   Sun  Dinner     2\n",
      "1         10.34  1.66    Male     No   Sun  Dinner     3\n",
      "2         21.01  3.50    Male     No   Sun  Dinner     3\n",
      "3         23.68  3.31    Male     No   Sun  Dinner     2\n",
      "4         24.59  3.61  Female     No   Sun  Dinner     4\n",
      "..          ...   ...     ...    ...   ...     ...   ...\n",
      "239       29.03  5.92    Male     No   Sat  Dinner     3\n",
      "240       27.18  2.00  Female    Yes   Sat  Dinner     2\n",
      "241       22.67  2.00    Male    Yes   Sat  Dinner     2\n",
      "242       17.82  1.75    Male     No   Sat  Dinner     2\n",
      "243       18.78  3.00  Female     No  Thur  Dinner     2\n",
      "\n",
      "[244 rows x 7 columns]\n"
     ]
    },
    {
     "data": {
      "image/png": "[encoded data removed]",
      "text/plain": [
       "<Figure size 640x480 with 1 Axes>"
      ]
     },
     "metadata": {},
     "output_type": "display_data"
    }
   ],
   "source": [
    "sns.set_theme(style=\"ticks\", palette=\"pastel\")\n",
    "\n",
    "# Load the example tips dataset\n",
    "tips = sns.load_dataset(\"tips\")\n",
    "print(tips)\n",
    "\n",
    "# Draw a nested boxplot to show bills by day and time\n",
    "sns.boxplot(x=\"day\", y=\"total_bill\",\n",
    "            hue=\"smoker\", palette=[\"m\", \"g\"],\n",
    "            data=tips)\n",
    "sns.despine(offset=10, trim=True)"
   ]
  },
  {
   "attachments": {},
   "cell_type": "markdown",
   "id": "b859240c",
   "metadata": {},
   "source": [
    "## Code RN2483\n",
    "Insérez les codes développés dans les TP précédents dans les cellules ci dessous.  \n",
    "Vous n'êtes pas obligés de respecter un duty cycle pour récupérer les les trames.  \n",
    "**Mettez seulement un temps d'attente afin d'éviter trop de collisions.**"
   ]
  },
  {
   "cell_type": "code",
   "execution_count": null,
   "id": "1d574eb9",
   "metadata": {},
   "outputs": [],
   "source": []
  },
  {
   "cell_type": "code",
   "execution_count": 12,
   "id": "a5a91903",
   "metadata": {},
   "outputs": [
    {
     "ename": "NameError",
     "evalue": "name 'logging' is not defined",
     "output_type": "error",
     "traceback": [
      "\u001b[0;31m---------------------------------------------------------------------------\u001b[0m",
      "\u001b[0;31mNameError\u001b[0m                                 Traceback (most recent call last)",
      "Cell \u001b[0;32mIn[12], line 4\u001b[0m\n\u001b[1;32m      2\u001b[0m PORT     \u001b[38;5;241m=\u001b[39m \u001b[38;5;124m'\u001b[39m\u001b[38;5;124m/dev/ttyACM0\u001b[39m\u001b[38;5;124m'\u001b[39m\n\u001b[1;32m      3\u001b[0m BAUDRATE \u001b[38;5;241m=\u001b[39m \u001b[38;5;241m57600\u001b[39m\n\u001b[0;32m----> 4\u001b[0m logger\u001b[38;5;241m=\u001b[39m \u001b[43mlogging\u001b[49m\u001b[38;5;241m.\u001b[39mgetLogger()\n\u001b[1;32m      5\u001b[0m logger\u001b[38;5;241m.\u001b[39msetLevel(logging\u001b[38;5;241m.\u001b[39mDEBUG)\n\u001b[1;32m      6\u001b[0m logging\u001b[38;5;241m.\u001b[39mdebug(\u001b[38;5;124m\"\u001b[39m\u001b[38;5;124mTest\u001b[39m\u001b[38;5;124m\"\u001b[39m)\n",
      "\u001b[0;31mNameError\u001b[0m: name 'logging' is not defined"
     ]
    }
   ],
   "source": [
    "#Configuration\n",
    "PORT     = '/dev/ttyACM0'\n",
    "BAUDRATE = 57600\n",
    "logger= logging.getLogger()\n",
    "logger.setLevel(logging.DEBUG)\n",
    "logging.debug(\"Test\")"
   ]
  },
  {
   "cell_type": "code",
   "execution_count": null,
   "id": "6afe3a13",
   "metadata": {},
   "outputs": [],
   "source": [
    "\n",
    "\n",
    "\n",
    "\n",
    "\n",
    "\n",
    "def setup_serial(port:str=PORT,baudrate:int=BAUDRATE,bytesize:int=serial.EIGHTBITS,\n",
    "                        parity:str=serial.PARITY_NONE,stopbits:int=serial.STOPBITS_ONE,\n",
    "                        dtr:int=False):\n",
    "    \"\"\"\n",
    "    Function to setup my serial connection\n",
    "    Params:\n",
    "        port:str        : Port used for my connection, default value PORT\n",
    "        baudrate:int    : Baudrate, default value BAUDRATE\n",
    "        bytesize:int    : bytesize, default value serial.EIGHTBITS\n",
    "        parity:str      : Bit parity, default value serial.PARITY_NONE\n",
    "        stopbits:int    : Stop bits, default value serial.STOPBITS_ONE\n",
    "        dtr:bool        : Data Terminal Ready, default value False\n",
    "    Returns :\n",
    "        sp:Serial.Serial: A serial connection\n",
    "    \"\"\"\n",
    "    try:\n",
    "        sp = serial.Serial()\n",
    "        sp.port = port\n",
    "        sp.baudrate = baudrate\n",
    "        sp.bytesize = bytesize\n",
    "        sp.parity = parity\n",
    "        sp.stopbits = stopbits\n",
    "        sp.dtr=dtr\n",
    "        sp.open()\n",
    "        return sp\n",
    "    except (ValueError,serial.SerialException) as exception:\n",
    "        logging.critical(\"Could not open the serial connection.\")\n",
    "        raise exception\n",
    "#Test de connexion\n",
    "module = setup_serial()\n",
    "def send(sp:serial.Serial,data:str):\n",
    "    \"\"\"\n",
    "    Send data through the serial connection\n",
    "        Param:\n",
    "            sp:serial.Serial : serial.Serial object used for the RN2485\n",
    "            data:str : Data to encode and send\n",
    "        Returns :\n",
    "            decoded_response:str: Returns a response if got one\n",
    "    \"\"\"\n",
    "    #Encode data and send it through the serial connection\n",
    "    data_to_send = (data.rstrip()+\"\\x0d\\x0a\").encode()\n",
    "    sp.write(data_to_send)\n",
    "    time.sleep(0.2)\n",
    "\n",
    "    #Wait for a response\n",
    "    rdata=sp.readline()\n",
    "    while not rdata:\n",
    "        rdata = sp.readline()\n",
    "\n",
    "    #Decode response and send it\n",
    "    decoded_response = rdata.strip().decode()\n",
    "    logging.debug(\"Decoded response : %s\",decoded_response)\n",
    "    return decoded_response\n",
    "def reset_module(sp):\n",
    "    \"\"\"cnf\n",
    "    Reset the module\n",
    "    sys reset : This command resets and restarts the RN2483 module; stored LoRaWAN protocol\n",
    "    settings will be loaded automatically upon reboot.\n",
    "        Param:\n",
    "        Returns :\n",
    "            response:str : Response from the module\n",
    "            response from the module : RN2483 X.Y.Z MMM DD YYYY HH:MM:SS, where X.Y.Z is firmware\n",
    "            version, MMM is month, DD is day, YYYY is year, HH:MM:SS is hour,\n",
    "            minutes, seconds (format: [HW] [FW] [Date] [Time]). [Date] and [Time] refer\n",
    "            to the release of the firmware.\n",
    "            \n",
    "    \"\"\"\n",
    "    #Send the command to reset the module\n",
    "    command = \"sys factoryRESET\"\n",
    "    response = send(sp,command)\n",
    "    return response\n",
    "def set_appkey(sp,appkey:str):\n",
    "    \"\"\"\n",
    "    Set the APPKEY\n",
    "    mac set appkey <appKey> : \n",
    "        - This command sets the application key for the module. The application key is used tocnf\n",
    "          derive the security credentials for communication during over-the-air activation.\n",
    "        Param:\n",
    "            <appKey>: 16-byte hexadecimal number representing the application key\n",
    "        Returns :\n",
    "            Response from module: \n",
    "                    - ok if key is valid\n",
    "                    - invalid_param if key is not valid\n",
    "    \"\"\"\n",
    "    #Send the command to set the appkey\n",
    "    command = \"mac set appkey \"+appkey\n",
    "    response = send(sp,command)\n",
    "    return response\n",
    "def set_joineui(sp,joineui:str):\n",
    "    \"\"\"\n",
    "    Set the JOINEUI\n",
    "    mac set appeui <appEUI>\n",
    "        This command sets the \n",
    "        Param:\n",
    "                ??\n",
    "        Returns :\n",
    "            Response: ok if address is valid\n",
    "            invalid_param if address is not valid\n",
    "    \"\"\"\n",
    "    #Send the command to set the joineui\n",
    "    command = \"mac set appeui \" +joineui\n",
    "    response = send(sp,command)\n",
    "    return response\n",
    "def set_datarate(sp,spreading_factor:int):\n",
    "    \"\"\"\n",
    "    Set the datarate\n",
    "    mac set dr <dataRate>\n",
    "    This command sets the data rate to be used for the next transmission. \n",
    "        Param:\n",
    "            <dataRate>: decimal number representing the data rate, from 0 and 7, \n",
    "            but within the limits of the data rate range for the defined channels.\n",
    "        Returns :\n",
    "            Response: ok if data rate is valid or invalid_param if data rate is not valid\n",
    "    \"\"\"\n",
    "    datarate = \"DR0\" #Find the relation between SF and DR\n",
    "    #Send the command to set the datarate\n",
    "    command = \"mac set dr \"+ str(spreading_factor)\n",
    "    response = send(sp,command)\n",
    "    return response\n",
    "def set_deveui(sp,deveui:str):\n",
    "    \"\"\"\n",
    "    Set the DEVEUI\n",
    "    mac set deveui <devEUI>\n",
    "        This command sets the globally unique device identifier for the module. The identifier\n",
    "        must be set by the host MCU. The module contains a pre-programmed unique EUI and\n",
    "        can be retrieved using the sys get hweui command (see Section 2.3.6.4) or user\n",
    "        provided EUI can be configured using the mac set deveui command.\n",
    "        Param:\n",
    "            <devEUI>: 8-byte hexadecimal number representing the device EUI\n",
    "        Returns :\n",
    "            Response: ok if address is valid ou invalid_param if address is not validcnf\n",
    "    \"\"\"\n",
    "    #Send the command to set the deveui\n",
    "    command = \"mac set deveui \" + deveui\n",
    "    response = send(sp,command)\n",
    "    return response\n",
    "def set_datarate(sp,spreading_factor:int):\n",
    "    \"\"\"\n",
    "    Set the datarate\n",
    "    mac set dr <dataRate>\n",
    "    This command sets the data rate to be used for the next transmission. \n",
    "        Param:\n",
    "            <dataRate>: decimal number representing the data rate, from 0 and 7, \n",
    "            but within the limits of the data rate range for the defined channels.\n",
    "        Returns :\n",
    "            Response: ok if data rate is valid or invalid_param if data rate is not valid\n",
    "    \"\"\"\n",
    "    datarate = \"DR0\" #Find the relation between SF and DR\n",
    "    #Send the command to set the datarate\n",
    "    command = \"mac set dr \" + str(spreading_factor)\n",
    "    response = send(sp,command)\n",
    "    return response\n",
    "def save_config(sp):\n",
    "    \"\"\"\n",
    "    The mac save command must be issued after configuration parameters have been\n",
    "    appropriately entered from the mac set <cmd> commands. This command will save\n",
    "    LoRaWAN Class A protocol configuration parameters to the user EEPROM. When the\n",
    "    next sys reset command is issued, the LoRaWAN Class A protocol configuration will\n",
    "    be initialized with the last saved parameters.\n",
    "        Param:\n",
    "        Returns :\n",
    "            Response: ok\n",
    "    \"\"\"\n",
    "    #Send the command to save the current config\n",
    "    command = \"mac save\"\n",
    "    response = send(sp,command)\n",
    "    return response\n",
    "def config_module(sp,appkey:str,joineui:str,deveui:str,spreading_factor:int):\n",
    "    \"\"\"\n",
    "    Configurate the module\n",
    "        Param:\n",
    "            spreading_factor:int : ???????????\n",
    "            joineui:str          : ???????????\n",
    "            deveui:str           : ???????????\n",
    "            spreading_factor:int : ???????????\n",
    "        Returns :\n",
    "            bool: True if joined, False if not\n",
    "    \"\"\"\n",
    "    logging.info(\"Resetting device\")\n",
    "    #response = send(sp, \"sys reset\")\n",
    "    logging.debug(\"Response : %s\",reset_module(sp))\n",
    "    \n",
    "    logging.info(\"Setting APPKEY : %s\",appkey)\n",
    "    #response = send(sp, f\"mac set appkey {appkey}\")\n",
    "    logging.debug(\"Response : %s\",set_appkey(sp, appkey))\n",
    "    \n",
    "    logging.info(\"Setting JOINEUI : %s\",joineui)\n",
    "    #response = send(sp, f\"mac set joineui {joineui}\")\n",
    "    logging.debug(\"Response : %s\",set_joineui(sp,joineui))\n",
    "    \n",
    "    logging.info(\"Setting DEVEUI : %s\",deveui)\n",
    "    #response = send(sp, f\"mac set deveui {deveui}\")\n",
    "    logging.debug(\"Response : %s\",set_deveui(sp,deveui))\n",
    "    \n",
    "    logging.info(\"Setting the data-rate, spreading_factor = %s\",spreading_factor)\n",
    "    #response = send(sp, f\"mac set dr {spreading_factor}\")\n",
    "    logging.debug(\"Response : %s\",set_datarate(sp,spreading_factor))\n",
    "    \n",
    "    logging.info(\"Saving mac settings\")\n",
    "    #response = send(sp, \"mac save\")\n",
    "    logging.debug(\"Response : %s\",save_config(sp))\n",
    "    \n",
    "    #Here we disable the duty cycle limit on the module to avoid errors\n",
    "    #This part is given\n",
    "    for channel in range(0,3):\n",
    "        #Change duty cycle\n",
    "        logging.info(\"Setting channel %s duty cycle to  1.00\",channel)\n",
    "        response = send(sp,f\"mac set ch dcycle {channel} 1\")\n",
    "        logging.info(\"Set %s to dcycle response : %s\",channel,response)\n",
    "        #Channel status to on\n",
    "        logging.info(\"Setting channel %s to on\",channel)\n",
    "        response = send(sp,f\"mac set ch status {channel} on\")\n",
    "        logging.info(\"Set %s on response : %s\",channel,response)\n",
    "    \n",
    "    \n",
    "    #Now we join the network, this part is given\n",
    "    joining=False\n",
    "    while not joining:\n",
    "        logging.info(\"Preparing to join the network\")\n",
    "        response = send(sp,\"mac join otaa\")\n",
    "        logging.info(\"Mac join otaa response : %s\",response)\n",
    "        if \"ok\" in response:\n",
    "            joining=True\n",
    "        time.sleep(2)\n",
    "        \n",
    "    logging.info(\"Wating to get the accepted response\")\n",
    "    time.sleep(2) #Wait for accepted response\n",
    "    ret = sp.readline()\n",
    "    while not ret:\n",
    "        ret = sp.readline()\n",
    "    response = ret.strip().decode()\n",
    "    logging.info(\"Status of the join request : %s\",response)\n",
    "    if not \"accepted\" in response:\n",
    "        return False\n",
    "    return True\n",
    "#Test de la fonction\n",
    "response = config_module(module,\"0123456789ABCDEF0123456789ABCDEF\",\"DEAD25DEAD25DEAD\",\"DEADDEAD00090007\",3)\n",
    "logging.info(\"Did we join the network ? %s\",response)\n",
    "#verefication de bon sf \n",
    "logging.info(\"Getting SF : %s\")\n",
    "response = send(module, f\"radio get sf \")\n",
    "logging.debug(\"Response : %s\",response)\n",
    "\n",
    "def send_message(sp, message: bytes):\n",
    "    \"\"\"\n",
    "    Send a message to the LoRa Network Server\n",
    "    Param:\n",
    "    sp: serial.Serial : serial.Serial object used for the RN2483\n",
    "    message: str : Message to send\n",
    "    Returns :\n",
    "    response: str : Response from the module\n",
    "    \"\"\"\n",
    "    # Prepare the message to be sent\n",
    "    command = f\"mac tx uncnf 1 {message}\"\n",
    "    print(command)\n",
    "    response = send(sp, command)\n",
    "    return response\n"
   ]
  },
  {
   "attachments": {},
   "cell_type": "markdown",
   "id": "2b2ba5ba",
   "metadata": {},
   "source": [
    "# Questions préliminaires"
   ]
  },
  {
   "attachments": {},
   "cell_type": "markdown",
   "id": "3f8c1a29",
   "metadata": {},
   "source": [
    "**Qu'est-ce que le SF ?**"
   ]
  },
  {
   "attachments": {},
   "cell_type": "markdown",
   "id": "a18daeef-2fdf-49ec-9361-b8b76a58355c",
   "metadata": {},
   "source": [
    "Le SF (Spreading Factor) est un paramètre dans les réseaux LoRaWAN, il définit la durée de transmission d'un paquet de données sur un canal donné. Il influence directement la portée du signal et la consommation énergétique, tout en affectant le débit de données. Il va de 7 à 12."
   ]
  },
  {
   "attachments": {},
   "cell_type": "markdown",
   "id": "4db88ba2",
   "metadata": {},
   "source": [
    "**Qu'est-ce que le RSSI ? Quelle est son unité ? Pourquoi est-ce important dans ce TP ?**"
   ]
  },
  {
   "attachments": {},
   "cell_type": "markdown",
   "id": "b0736d7a",
   "metadata": {},
   "source": [
    "Le RSSI (Received Signal Strength Indicator) est un indicateur de la puissance du signal reçu par un dispositif. Il mesure la force du signal radio capté par un récepteur et est exprimé en dBm (décibels milliwatts). Plus le RSSI est élevé, plus le signal est fort.\n",
    "Le RSSI permet d'évaluer la qualité de la connexion entre un appareil et la passerelle."
   ]
  },
  {
   "attachments": {},
   "cell_type": "markdown",
   "id": "a1d28b20",
   "metadata": {},
   "source": [
    "**Qu'est-ce que le SNR ? Quelle est son unité ? Pourquoi est-ce important dans ce TP ?**"
   ]
  },
  {
   "attachments": {},
   "cell_type": "markdown",
   "id": "8e166c73",
   "metadata": {},
   "source": [
    "Le SNR (Signal-to-Noise Ratio), ou rapport signal sur bruit en français, est une mesure de la qualité d'un signal par rapport au bruit de fond. Il évalue la proportion entre l'intensité du signal utile et celle du bruit qui peut interférer avec ce signal. Plus le SNR est élevé, plus le signal est clair et moins il y a d'interférence."
   ]
  },
  {
   "attachments": {},
   "cell_type": "markdown",
   "id": "1e1a682b",
   "metadata": {},
   "source": [
    "# Partie 1 : Récupération de trames.\n",
    "Dans cette partie, récupérez une trentaine de trames LoRaWAN pour chaque SF. Enregistrez les dans un fichier pour pouvoir les réutiliser dans la partie 2.\n",
    "\n",
    "\n",
    "Rappel :  \n",
    "Le LoRa Network Server (ou LNS) est configuré pour publier les messages reçus vers le topic : \n",
    "`TestTopic/lora/{appid}/{deveui}/{event}`  \n",
    "A l'aide de mosquitto_sub, vous allez **subscribe** à ce topic depuis une console grâce à la commande suivante :  \n",
    "`mosquitto_sub -h neocampus.univ-tlse3.fr -t TestTopic/lora/{appid}/{deveui}/# -p 1882 -u test -P test`\n",
    "\n",
    "Le broker MQTT neOCampus utilise le port 1882. En général, les brokers MQTT utilisent le port 1883. On précise le broker grâce à l'argument `-p` dans la commande ci dessus. \n",
    "**Si vous essayez d'accéder au broker depuis un réseau externe à l'université, il faudra utiliser le port 10882**"
   ]
  },
  {
   "cell_type": "code",
   "execution_count": null,
   "id": "b3897ffb-73ac-4b51-9f1f-0bd8ec9da1f8",
   "metadata": {},
   "outputs": [],
   "source": [
    "import paho.mqtt.client as mqtt\n",
    "import logging\n",
    "\n",
    "# Configuration des paramètres MQTT\n",
    "MQTT_BROKER = \"mqtt.example.com\"  # Remplace par l'adresse de ton broker MQTT\n",
    "MQTT_PORT = 1883  # Port par défaut MQTT\n",
    "MQTT_TOPIC = \"lora/device_data\"  # Le sujet auquel tu souhaites t'abonner\n",
    "\n",
    "# Fonction qui sera appelée lorsque le client MQTT se connecte au broker\n",
    "def on_connect(client, userdata, flags, rc):\n",
    "    logging.info(f\"Connected with result code {rc}\")\n",
    "    # S'abonner au sujet (topic)\n",
    "    client.subscribe(MQTT_TOPIC)\n",
    "    logging.info(f\"Subscribed to topic: {MQTT_TOPIC}\")\n",
    "\n",
    "# Fonction qui sera appelée lorsqu'un message est reçu sur le sujet\n",
    "def on_message(client, userdata, msg):\n",
    "    logging.info(f\"Message reçu sur le sujet {msg.topic}: {msg.payload.decode()}\")\n",
    "    # Traite ici le message reçu\n",
    "    # Par exemple, afficher les données ou les enregistrer dans un fichier\n",
    "\n",
    "# Fonction principale pour configurer et démarrer le client MQTT\n",
    "def start_mqtt_client():\n",
    "    # Créer une instance du client MQTT\n",
    "    client = mqtt.Client()\n",
    "\n",
    "    # Définir les fonctions de callback pour la connexion et la réception de messages\n",
    "    client.on_connect = on_connect\n",
    "    client.on_message = on_message\n",
    "\n",
    "    # Se connecter au broker MQTT\n",
    "    logging.info(f\"Connecting to MQTT broker {MQTT_BROKER}:{MQTT_PORT}\")\n",
    "    client.connect(MQTT_BROKER, MQTT_PORT, 60)\n",
    "\n",
    "    # Boucle infinie pour maintenir la connexion et recevoir les messages\n",
    "    client.loop_forever()\n",
    "\n",
    "# Démarrer le client MQTT\n",
    "if __name__ == \"__main__\":\n",
    "    logging.basicConfig(level=logging.INFO)\n",
    "    start_mqtt_client()\n"
   ]
  },
  {
   "attachments": {},
   "cell_type": "markdown",
   "id": "9c8aca9a",
   "metadata": {},
   "source": [
    "# Partie 2 : Analyse \n",
    "Dans cette partie, vous allez réutiliser les trames enregistrées lors de la partie 1.  \n",
    "Quand vous traitez les trames, intéressez vous aux valeurs de la **best_gateway**.  \n",
    "\n",
    "Si le résultat que vous obtenez n'est pas celui auquel vous vous attendiez, essayez de justifier pourquoi."
   ]
  },
  {
   "attachments": {},
   "cell_type": "markdown",
   "id": "16dac5ca",
   "metadata": {},
   "source": [
    "## RSSI"
   ]
  },
  {
   "attachments": {},
   "cell_type": "markdown",
   "id": "196298d7",
   "metadata": {},
   "source": [
    "**Selon vous,quel comportement est attendu du RSSI quand on fait varier le SF ?**"
   ]
  },
  {
   "attachments": {},
   "cell_type": "markdown",
   "id": "d2c57893",
   "metadata": {},
   "source": []
  },
  {
   "attachments": {},
   "cell_type": "markdown",
   "id": "b382aa14",
   "metadata": {},
   "source": [
    "**Tracez un graphe *(boxplot)* du RSSI en fonction du SF.**"
   ]
  },
  {
   "cell_type": "code",
   "execution_count": null,
   "id": "4c2f1286",
   "metadata": {},
   "outputs": [
    {
     "ename": "",
     "evalue": "",
     "output_type": "error",
     "traceback": [
      "\u001b[1;31mLes cellules en cours d’exécution avec /opt/homebrew/bin/python3 nécessitent le package ipykernel.\n",
      "\u001b[1;31mRun the following command to install 'ipykernel' into the Python environment. \n",
      "\u001b[1;31mCommand: '/opt/homebrew/bin/python3 -m pip install ipykernel -U --user --force-reinstall'"
     ]
    }
   ],
   "source": [
    "import json\n",
    "import pandas as pd\n",
    "import matplotlib.pyplot as plt\n",
    "\n",
    "# List of file paths for the JSON files\n",
    "file_paths = [\n",
    "    '/json_file/tp_json_sf0.json',\n",
    "    '/json_filetp_json_sf1.json',\n",
    "    '/json_file/tp_json_sf2.json',\n",
    "    '/json_file/tp_json_sf3.json',\n",
    "    '/json_file/tp_json_sf4.json',\n",
    "    '/json_file/tp_json_sf5.json',\n",
    "]\n",
    "\n",
    "# Load and extract data from each file\n",
    "all_data = []\n",
    "for path in file_paths:\n",
    "    with open(path, 'r') as file:\n",
    "        data = json.load(file)\n",
    "        for record in data:\n",
    "            best_gw = record.get(\"best_gw\", {})\n",
    "            rssi = best_gw.get(\"rssi\")\n",
    "            datr = record.get(\"datr\")\n",
    "            # Parse the SF (Spreading Factor) from datr\n",
    "            if datr.startswith(\"SF\")and datr[2:4].isdigit():\n",
    "                sf = int(datr[2:4])  # Extract SF value (e.g., \"SF12BW125\" -> 12)\n",
    "                all_data.append({\"RSSI\": rssi, \"SF\": sf})\n",
    "            else:\n",
    "                sf = int(datr[2:3])\n",
    "                all_data.append({\"RSSI\": rssi, \"SF\": sf})\n",
    "\n",
    "# Create a DataFrame from the extracted data\n",
    "df_combined = pd.DataFrame(all_data)\n",
    "#print(df_combined)\n",
    "# Plot the boxplot of RSSI values by SF\n",
    "plt.figure(figsize=(12, 8))\n",
    "df_combined.boxplot(column=\"RSSI\", by=\"SF\", grid=False)\n",
    "plt.title(\"Boxplot of RSSI by SF Across All Files\")\n",
    "plt.suptitle(\"\")  # Suppress the default title\n",
    "plt.xlabel(\"Spreading Factor (SF)\")\n",
    "plt.ylabel(\"RSSI (dBm)\")\n",
    "plt.xticks(rotation=45)\n",
    "plt.show()\n"
   ]
  },
  {
   "attachments": {},
   "cell_type": "markdown",
   "id": "cb18b158",
   "metadata": {},
   "source": [
    "**Commentez le graphe. Que pouvez vous conclure ? Est-ce ce à quoi vous vous attendiez ? Pourquoi ?**"
   ]
  },
  {
   "attachments": {},
   "cell_type": "markdown",
   "id": "3a592115",
   "metadata": {},
   "source": []
  },
  {
   "attachments": {},
   "cell_type": "markdown",
   "id": "307b9003",
   "metadata": {},
   "source": [
    "## SNR"
   ]
  },
  {
   "attachments": {},
   "cell_type": "markdown",
   "id": "4c1dedba",
   "metadata": {},
   "source": [
    "**Selon vous,quel comportement est attendu du SNR quand on fait varier le SF ?**"
   ]
  },
  {
   "attachments": {},
   "cell_type": "markdown",
   "id": "01ea244e",
   "metadata": {},
   "source": []
  },
  {
   "attachments": {},
   "cell_type": "markdown",
   "id": "f9112846",
   "metadata": {},
   "source": [
    "**Tracez un graphe *(boxplot)* du SNR en fonction du SF.**"
   ]
  },
  {
   "cell_type": "code",
   "execution_count": null,
   "id": "21f4dc00",
   "metadata": {},
   "outputs": [],
   "source": [
    "import json\n",
    "import pandas as pd\n",
    "import matplotlib.pyplot as plt\n",
    "\n",
    "# List of file paths for the JSON files\n",
    "file_paths = [\n",
    "    '/json_file/tp_json_sf0.json',\n",
    "    '/json_filetp_json_sf1.json',\n",
    "    '/json_file/tp_json_sf2.json',\n",
    "    '/json_file/tp_json_sf3.json',\n",
    "    '/json_file/tp_json_sf4.json',\n",
    "    '/json_file/tp_json_sf5.json',\n",
    "]\n",
    "\n",
    "# Load and extract data from each file\n",
    "all_data = []\n",
    "for path in file_paths:\n",
    "    with open(path, 'r') as file:\n",
    "        data = json.load(file)\n",
    "        for record in data:\n",
    "            best_gw = record.get(\"best_gw\", {})\n",
    "            lsnr = best_gw.get(\"lsnr\")\n",
    "            datr = record.get(\"datr\")\n",
    "            # Parse the SF (Spreading Factor) from datr\n",
    "            if datr.startswith(\"SF\")and datr[2:4].isdigit():\n",
    "                sf = int(datr[2:4])  # Extract SF value (e.g., \"SF12BW125\" -> 12)\n",
    "                all_data.append({\"LSNR\": lsnr, \"SF\": sf})\n",
    "            else:\n",
    "                sf = int(datr[2:3])\n",
    "                all_data.append({\"LSNR\": lsnr, \"SF\": sf})\n",
    "\n",
    "# Create a DataFrame from the extracted data\n",
    "df_combined = pd.DataFrame(all_data)\n",
    "#print(df_combined)\n",
    "# Plot the boxplot of RSSI values by SF\n",
    "plt.figure(figsize=(12, 8))\n",
    "df_combined.boxplot(column=\"LSNR\", by=\"SF\", grid=False)\n",
    "plt.title(\"Boxplot of LSNR by SF Across All Files\")\n",
    "plt.suptitle(\"\")  # Suppress the default title\n",
    "plt.xlabel(\"Spreading Factor (SF)\")\n",
    "plt.ylabel(\"LSNR \")\n",
    "plt.xticks(rotation=45)\n",
    "plt.show()\n"
   ]
  },
  {
   "attachments": {},
   "cell_type": "markdown",
   "id": "2fad82f7",
   "metadata": {},
   "source": [
    "**Commentez le graphe. Que pouvez vous conclure ? Est-ce ce à quoi vous vous attendiez ? Pourquoi ?**"
   ]
  },
  {
   "attachments": {},
   "cell_type": "markdown",
   "id": "be43bd86",
   "metadata": {},
   "source": []
  },
  {
   "attachments": {},
   "cell_type": "markdown",
   "id": "13283ba3",
   "metadata": {},
   "source": [
    "## Data Extraction Rate de chaque gateway pour chaque SF\n",
    "Dans cette partie, on vous demande le % de messages captés par chaque gateway pour chaque SF."
   ]
  },
  {
   "attachments": {},
   "cell_type": "markdown",
   "id": "007d10f7",
   "metadata": {},
   "source": [
    "**Selon vous, que va entrainer la modification du SF ? Quel SF utiliser pour maximiser le DER ?**"
   ]
  },
  {
   "attachments": {},
   "cell_type": "markdown",
   "id": "d229f2f1",
   "metadata": {},
   "source": []
  },
  {
   "attachments": {},
   "cell_type": "markdown",
   "id": "c8a7e09a",
   "metadata": {},
   "source": [
    "**Tracez un graphe *(boxplot)* du DER de chaque gateway en fonction du SF.**"
   ]
  },
  {
   "cell_type": "code",
   "execution_count": null,
   "id": "3fbd329b",
   "metadata": {},
   "outputs": [],
   "source": [
    "import json\n",
    "import pandas as pd\n",
    "import seaborn as sns\n",
    "import matplotlib.pyplot as plt\n",
    "\n",
    "# Liste des chemins vers les fichiers JSON\n",
    "file_paths = [\n",
    "    '/json_file/tp_json_sf0.json',\n",
    "    '/json_filetp_json_sf1.json',\n",
    "    '/json_file/tp_json_sf2.json',\n",
    "    '/json_file/tp_json_sf3.json',\n",
    "    '/json_file/tp_json_sf4.json',\n",
    "    '/json_file/tp_json_sf5.json',\n",
    "]\n",
    "\n",
    "# Charger et extraire les données de chaque fichier\n",
    "all_data = []\n",
    "for path in file_paths:\n",
    "    with open(path, 'r') as file:\n",
    "        data = json.load(file)\n",
    "        for record in data:\n",
    "            all_gw = record.get(\"all_gw\", [])  # Liste des gateways captant le message\n",
    "            datr = record.get(\"datr\")  # Facteur d'étalement (SF)\n",
    "            if datr.startswith(\"SF\") and datr[2:4].isdigit():\n",
    "                sf = int(datr[2:4])  # Extraire le SF (par exemple, \"SF12BW125\" -> 12)\n",
    "                for gw in all_gw:\n",
    "                    gateway_desc = gw.get(\"desc\", \"Unknown\")  # Description de la gateway\n",
    "                    all_data.append({\"SF\": sf, \"Gateway\": gateway_desc})\n",
    "            else:\n",
    "                sf = int(datr[2:3])  # Extraire le SF (par exemple, \"SF12BW125\" -> 12)\n",
    "                for gw in all_gw:\n",
    "                    gateway_desc = gw.get(\"desc\", \"Unknown\")  # Description de la gateway\n",
    "                    all_data.append({\"SF\": sf, \"Gateway\": gateway_desc})\n",
    "               \n",
    "\n",
    "\n",
    "# Créer un DataFrame à partir des données extraites\n",
    "df = pd.DataFrame(all_data)\n",
    "\n",
    "# Vérifier les données extraites\n",
    "print(\"Aperçu des données :\")\n",
    "print(df.head())\n",
    "\n",
    "# Calculer le nombre total de messages captés par chaque gateway pour chaque SF\n",
    "message_counts = df.groupby([\"SF\", \"Gateway\"]).size().reset_index(name=\"MessageCount\")\n",
    "print(\"hahahahahahahah\")\n",
    "print(message_counts)\n",
    "# Ajouter un pourcentage des messages captés pour chaque SF\n",
    "total_messages_per_sf = message_counts.groupby(\"SF\")[\"MessageCount\"].transform(\"sum\")\n",
    "message_counts[\"Percentage\"] = (message_counts[\"MessageCount\"] / total_messages_per_sf) * 100\n",
    "\n",
    "# Afficher les résultats finaux\n",
    "print(\"Pourcentage des messages captés par chaque gateway pour chaque SF :\")\n",
    "\n",
    "\n",
    "# Visualisation avec Seaborn (Grouped Barplot)\n",
    "sns.set_theme(style=\"whitegrid\")\n",
    "plt.figure(figsize=(14, 8))\n",
    "\n",
    "sns.barplot(\n",
    "    data=message_counts,\n",
    "    x=\"SF\",          # Axe X : SF\n",
    "    y=\"Percentage\",  # Axe Y : Pourcentage des messages\n",
    "    hue=\"Gateway\",   # Groupement par Gateway\n",
    "    palette=\"Set2\"   # Palette des couleurs\n",
    ")\n",
    "\n",
    "# Ajustements esthétiques\n",
    "plt.title(\"Pourcentage des messages captés par Gateway pour chaque SF\")\n",
    "plt.xlabel(\"Spreading Factor (SF)\")\n",
    "plt.ylabel(\"Pourcentage des messages (%)\")\n",
    "plt.legend(title=\"Gateway\", loc=\"upper right\")\n",
    "plt.xticks(rotation=45)\n",
    "plt.tight_layout()\n",
    "\n",
    "# Afficher le graphique\n",
    "plt.show()\n"
   ]
  },
  {
   "attachments": {},
   "cell_type": "markdown",
   "id": "3a74045a",
   "metadata": {},
   "source": [
    "**Commentez le graphe. Que pouvez vous conclure ? Est-ce ce à quoi vous vous attendiez ? Pourquoi ?**"
   ]
  },
  {
   "attachments": {},
   "cell_type": "markdown",
   "id": "67971f1c",
   "metadata": {},
   "source": []
  },
  {
   "attachments": {},
   "cell_type": "markdown",
   "id": "79600af2",
   "metadata": {},
   "source": [
    "# Distance"
   ]
  },
  {
   "attachments": {},
   "cell_type": "markdown",
   "id": "a8dea760",
   "metadata": {},
   "source": [
    "Le lien ci-dessous permet de voir où sont situées les gateways.  \n",
    "**A quelle distance étiez vous des gateways quand vous émettiez ?**\n",
    "\n",
    "https://www.google.com/maps/d/u/0/edit?mid=1oBEwKLwUyCBqnEczIpG0BARMm9NM1a0&usp=sharing "
   ]
  },
  {
   "attachments": {},
   "cell_type": "markdown",
   "id": "051c1c53",
   "metadata": {},
   "source": []
  },
  {
   "attachments": {},
   "cell_type": "markdown",
   "id": "b5479e54",
   "metadata": {},
   "source": [
    "**La distance joue-t-elle un rôle sur le RSSI et le SNR ? Expliquez.**"
   ]
  },
  {
   "attachments": {},
   "cell_type": "markdown",
   "id": "0a56e724",
   "metadata": {},
   "source": []
  },
  {
   "attachments": {},
   "cell_type": "markdown",
   "id": "bbedc9b5",
   "metadata": {},
   "source": [
    "**La distance joue-t-elle un rôle dans le choix du SF ? Que pouvez vous en conclure ?**"
   ]
  },
  {
   "attachments": {},
   "cell_type": "markdown",
   "id": "1d36ebd4",
   "metadata": {},
   "source": []
  },
  {
   "attachments": {},
   "cell_type": "markdown",
   "id": "2be910b5",
   "metadata": {},
   "source": [
    "**En plus du SF, pouvez vous citer d'autres paramètres importants afin d'optimiser les transmissions LoRaWAN ?**"
   ]
  },
  {
   "attachments": {},
   "cell_type": "markdown",
   "id": "4330962a",
   "metadata": {},
   "source": []
  }
 ],
 "metadata": {
  "kernelspec": {
   "display_name": "Python 3 (ipykernel)",
   "language": "python",
   "name": "python3"
  },
  "language_info": {
   "codemirror_mode": {
    "name": "ipython",
    "version": 3
   },
   "file_extension": ".py",
   "mimetype": "text/x-python",
   "name": "python",
   "nbconvert_exporter": "python",
   "pygments_lexer": "ipython3",
   "version": "3.13.0"
  }
 },
 "nbformat": 4,
 "nbformat_minor": 5
}
